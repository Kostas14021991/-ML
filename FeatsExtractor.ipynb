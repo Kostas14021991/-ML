{
 "cells": [
  {
   "cell_type": "code",
   "execution_count": 7,
   "id": "df8c9287",
   "metadata": {},
   "outputs": [],
   "source": [
    "import pandas as pd\n",
    "import numpy as np\n",
    "import matplotlib.pyplot as plt\n",
    "import seaborn as sns\n",
    "from sktime.utils.plotting import plot_series\n",
    "from sktime.forecasting.base import ForecastingHorizon\n",
    "from sktime.forecasting.naive import NaiveForecaster\n",
    "from sktime.forecasting.model_selection import temporal_train_test_split\n",
    "from sklearn.neighbors import KNeighborsRegressor\n",
    "from sklearn.ensemble import RandomForestRegressor\n",
    "from sklearn.preprocessing import StandardScaler\n",
    "from sklearn.pipeline import make_pipeline\n",
    "from sktime.forecasting.ets import AutoETS\n",
    "#from sktime.forecasting.arima import AutoARIMA\n",
    "from sktime.forecasting.compose import make_reduction\n",
    "from sktime.forecasting.model_selection import (\n",
    "    ForecastingGridSearchCV,\n",
    "    ExpandingWindowSplitter,)\n",
    "from sktime.transformations.series.boxcox import LogTransformer\n",
    "from sktime.performance_metrics.forecasting import MeanSquaredError\n",
    "from sktime.forecasting.model_evaluation import evaluate\n",
    "from sklearn.neural_network import MLPRegressor\n",
    "from sklearn.metrics import mean_squared_error\n",
    "from xgboost import XGBRFRegressor\n",
    "from sktime.transformations.panel.summarize import RandomIntervalFeatureExtractor"
   ]
  },
  {
   "cell_type": "code",
   "execution_count": 8,
   "id": "558bf4f8",
   "metadata": {},
   "outputs": [],
   "source": [
    "df = pd.read_excel(r'C:\\Users\\kosta\\Documents\\PhD related\\Python\\Feature forecasting\\All metals.xlsx',parse_dates = ['DATE'],index_col='DATE')"
   ]
  },
  {
   "cell_type": "code",
   "execution_count": 10,
   "id": "8a9c76b2",
   "metadata": {},
   "outputs": [],
   "source": [
    "df = df.iloc[:,0].to_frame()"
   ]
  },
  {
   "cell_type": "code",
   "execution_count": 14,
   "id": "45867f75",
   "metadata": {},
   "outputs": [
    {
     "data": {
      "text/html": [
       "<style>#sk-container-id-2 {color: black;background-color: white;}#sk-container-id-2 pre{padding: 0;}#sk-container-id-2 div.sk-toggleable {background-color: white;}#sk-container-id-2 label.sk-toggleable__label {cursor: pointer;display: block;width: 100%;margin-bottom: 0;padding: 0.3em;box-sizing: border-box;text-align: center;}#sk-container-id-2 label.sk-toggleable__label-arrow:before {content: \"▸\";float: left;margin-right: 0.25em;color: #696969;}#sk-container-id-2 label.sk-toggleable__label-arrow:hover:before {color: black;}#sk-container-id-2 div.sk-estimator:hover label.sk-toggleable__label-arrow:before {color: black;}#sk-container-id-2 div.sk-toggleable__content {max-height: 0;max-width: 0;overflow: hidden;text-align: left;background-color: #f0f8ff;}#sk-container-id-2 div.sk-toggleable__content pre {margin: 0.2em;color: black;border-radius: 0.25em;background-color: #f0f8ff;}#sk-container-id-2 input.sk-toggleable__control:checked~div.sk-toggleable__content {max-height: 200px;max-width: 100%;overflow: auto;}#sk-container-id-2 input.sk-toggleable__control:checked~label.sk-toggleable__label-arrow:before {content: \"▾\";}#sk-container-id-2 div.sk-estimator input.sk-toggleable__control:checked~label.sk-toggleable__label {background-color: #d4ebff;}#sk-container-id-2 div.sk-label input.sk-toggleable__control:checked~label.sk-toggleable__label {background-color: #d4ebff;}#sk-container-id-2 input.sk-hidden--visually {border: 0;clip: rect(1px 1px 1px 1px);clip: rect(1px, 1px, 1px, 1px);height: 1px;margin: -1px;overflow: hidden;padding: 0;position: absolute;width: 1px;}#sk-container-id-2 div.sk-estimator {font-family: monospace;background-color: #f0f8ff;border: 1px dotted black;border-radius: 0.25em;box-sizing: border-box;margin-bottom: 0.5em;}#sk-container-id-2 div.sk-estimator:hover {background-color: #d4ebff;}#sk-container-id-2 div.sk-parallel-item::after {content: \"\";width: 100%;border-bottom: 1px solid gray;flex-grow: 1;}#sk-container-id-2 div.sk-label:hover label.sk-toggleable__label {background-color: #d4ebff;}#sk-container-id-2 div.sk-serial::before {content: \"\";position: absolute;border-left: 1px solid gray;box-sizing: border-box;top: 0;bottom: 0;left: 50%;z-index: 0;}#sk-container-id-2 div.sk-serial {display: flex;flex-direction: column;align-items: center;background-color: white;padding-right: 0.2em;padding-left: 0.2em;position: relative;}#sk-container-id-2 div.sk-item {position: relative;z-index: 1;}#sk-container-id-2 div.sk-parallel {display: flex;align-items: stretch;justify-content: center;background-color: white;position: relative;}#sk-container-id-2 div.sk-item::before, #sk-container-id-2 div.sk-parallel-item::before {content: \"\";position: absolute;border-left: 1px solid gray;box-sizing: border-box;top: 0;bottom: 0;left: 50%;z-index: -1;}#sk-container-id-2 div.sk-parallel-item {display: flex;flex-direction: column;z-index: 1;position: relative;background-color: white;}#sk-container-id-2 div.sk-parallel-item:first-child::after {align-self: flex-end;width: 50%;}#sk-container-id-2 div.sk-parallel-item:last-child::after {align-self: flex-start;width: 50%;}#sk-container-id-2 div.sk-parallel-item:only-child::after {width: 0;}#sk-container-id-2 div.sk-dashed-wrapped {border: 1px dashed gray;margin: 0 0.4em 0.5em 0.4em;box-sizing: border-box;padding-bottom: 0.4em;background-color: white;}#sk-container-id-2 div.sk-label label {font-family: monospace;font-weight: bold;display: inline-block;line-height: 1.2em;}#sk-container-id-2 div.sk-label-container {text-align: center;}#sk-container-id-2 div.sk-container {/* jupyter's `normalize.less` sets `[hidden] { display: none; }` but bootstrap.min.css set `[hidden] { display: none !important; }` so we also need the `!important` here to be able to override the default hidden behavior on the sphinx rendered scikit-learn.org. See: https://github.com/scikit-learn/scikit-learn/issues/21755 */display: inline-block !important;position: relative;}#sk-container-id-2 div.sk-text-repr-fallback {display: none;}</style><div id=\"sk-container-id-2\" class=\"sk-top-container\"><div class=\"sk-text-repr-fallback\"><pre>RandomIntervalFeatureExtractor(n_intervals=131)</pre><b>In a Jupyter environment, please rerun this cell to show the HTML representation or trust the notebook. <br />On GitHub, the HTML representation is unable to render, please try loading this page with nbviewer.org.</b></div><div class=\"sk-container\" hidden><div class=\"sk-item\"><div class=\"sk-estimator sk-toggleable\"><input class=\"sk-toggleable__control sk-hidden--visually\" id=\"sk-estimator-id-2\" type=\"checkbox\" checked><label for=\"sk-estimator-id-2\" class=\"sk-toggleable__label sk-toggleable__label-arrow\">RandomIntervalFeatureExtractor</label><div class=\"sk-toggleable__content\"><pre>RandomIntervalFeatureExtractor(n_intervals=131)</pre></div></div></div></div></div>"
      ],
      "text/plain": [
       "RandomIntervalFeatureExtractor(n_intervals=131)"
      ]
     },
     "execution_count": 14,
     "metadata": {},
     "output_type": "execute_result"
    }
   ],
   "source": [
    "extr = RandomIntervalFeatureExtractor(n_intervals=131)\n",
    "extr.fit(df)"
   ]
  },
  {
   "cell_type": "code",
   "execution_count": 15,
   "id": "8978f977",
   "metadata": {},
   "outputs": [
    {
     "data": {
      "text/html": [
       "<div>\n",
       "<style scoped>\n",
       "    .dataframe tbody tr th:only-of-type {\n",
       "        vertical-align: middle;\n",
       "    }\n",
       "\n",
       "    .dataframe tbody tr th {\n",
       "        vertical-align: top;\n",
       "    }\n",
       "\n",
       "    .dataframe thead th {\n",
       "        text-align: right;\n",
       "    }\n",
       "</style>\n",
       "<table border=\"1\" class=\"dataframe\">\n",
       "  <thead>\n",
       "    <tr style=\"text-align: right;\">\n",
       "      <th></th>\n",
       "      <th>168_280_mean</th>\n",
       "      <th>267_304_mean</th>\n",
       "      <th>252_379_mean</th>\n",
       "      <th>275_283_mean</th>\n",
       "      <th>234_373_mean</th>\n",
       "      <th>263_367_mean</th>\n",
       "      <th>94_239_mean</th>\n",
       "      <th>70_100_mean</th>\n",
       "      <th>314_338_mean</th>\n",
       "      <th>326_360_mean</th>\n",
       "      <th>...</th>\n",
       "      <th>59_369_mean</th>\n",
       "      <th>141_367_mean</th>\n",
       "      <th>373_384_mean</th>\n",
       "      <th>188_368_mean</th>\n",
       "      <th>28_88_mean</th>\n",
       "      <th>377_394_mean</th>\n",
       "      <th>123_353_mean</th>\n",
       "      <th>172_205_mean</th>\n",
       "      <th>238_241_mean</th>\n",
       "      <th>153_165_mean</th>\n",
       "    </tr>\n",
       "  </thead>\n",
       "  <tbody>\n",
       "    <tr>\n",
       "      <th>0</th>\n",
       "      <td>2176.344397</td>\n",
       "      <td>1879.39935</td>\n",
       "      <td>1919.346188</td>\n",
       "      <td>1920.689152</td>\n",
       "      <td>1923.106906</td>\n",
       "      <td>1843.800346</td>\n",
       "      <td>1790.168745</td>\n",
       "      <td>1545.930333</td>\n",
       "      <td>1843.382917</td>\n",
       "      <td>1964.571176</td>\n",
       "      <td>...</td>\n",
       "      <td>1830.771655</td>\n",
       "      <td>1941.020677</td>\n",
       "      <td>2515.472727</td>\n",
       "      <td>2043.218405</td>\n",
       "      <td>1458.0735</td>\n",
       "      <td>2726.825294</td>\n",
       "      <td>1922.485926</td>\n",
       "      <td>2131.408333</td>\n",
       "      <td>2121.510333</td>\n",
       "      <td>1391.3235</td>\n",
       "    </tr>\n",
       "  </tbody>\n",
       "</table>\n",
       "<p>1 rows × 131 columns</p>\n",
       "</div>"
      ],
      "text/plain": [
       "   168_280_mean  267_304_mean  252_379_mean  275_283_mean  234_373_mean  \\\n",
       "0   2176.344397    1879.39935   1919.346188   1920.689152   1923.106906   \n",
       "\n",
       "   263_367_mean  94_239_mean  70_100_mean  314_338_mean  326_360_mean  ...  \\\n",
       "0   1843.800346  1790.168745  1545.930333   1843.382917   1964.571176  ...   \n",
       "\n",
       "   59_369_mean  141_367_mean  373_384_mean  188_368_mean  28_88_mean  \\\n",
       "0  1830.771655   1941.020677   2515.472727   2043.218405   1458.0735   \n",
       "\n",
       "   377_394_mean  123_353_mean  172_205_mean  238_241_mean  153_165_mean  \n",
       "0   2726.825294   1922.485926   2131.408333   2121.510333     1391.3235  \n",
       "\n",
       "[1 rows x 131 columns]"
      ]
     },
     "execution_count": 15,
     "metadata": {},
     "output_type": "execute_result"
    }
   ],
   "source": [
    "extr.fit_transform(df)"
   ]
  },
  {
   "cell_type": "code",
   "execution_count": null,
   "id": "2a46b8a8",
   "metadata": {},
   "outputs": [],
   "source": []
  }
 ],
 "metadata": {
  "kernelspec": {
   "display_name": "Python 3 (ipykernel)",
   "language": "python",
   "name": "python3"
  },
  "language_info": {
   "codemirror_mode": {
    "name": "ipython",
    "version": 3
   },
   "file_extension": ".py",
   "mimetype": "text/x-python",
   "name": "python",
   "nbconvert_exporter": "python",
   "pygments_lexer": "ipython3",
   "version": "3.8.13"
  }
 },
 "nbformat": 4,
 "nbformat_minor": 5
}
